{
 "cells": [
  {
   "cell_type": "code",
   "execution_count": null,
   "metadata": {},
   "outputs": [],
   "source": [
    "from functions import sample_uniform_parameters, sample_correlated_parameters, output_from_parameters, output_from_parameters_with_noise, obtain_theta, perform_CNLS_LASSO, obtain_beta_unique, add_random_variables\n",
    "from pystoned.plot import plot2d\n",
    "import numpy as np\n",
    "import pandas as pd"
   ]
  },
  {
   "cell_type": "markdown",
   "metadata": {},
   "source": [
    "### Sample the true parameters X (iid vs. Correlated), and create Y\n",
    "### Obtain theta from the results"
   ]
  },
  {
   "cell_type": "code",
   "execution_count": null,
   "metadata": {},
   "outputs": [],
   "source": [
    "x = sample_uniform_parameters(2,25, min_value=1, max_value=50, seed=2)\n",
    "y_log_true = output_from_parameters(x, cons = 3)\n",
    "y_log = output_from_parameters_with_noise(x, cons=3, var=0.1)\n",
    "x = add_random_variables(x, 7, min_value = 30, max_value = 40, seed=3)"
   ]
  },
  {
   "cell_type": "code",
   "execution_count": null,
   "metadata": {},
   "outputs": [],
   "source": [
    "theta = obtain_theta(x, y_true)"
   ]
  },
  {
   "cell_type": "markdown",
   "metadata": {},
   "source": [
    "### Perform the SCNLS-LASSO regression"
   ]
  },
  {
   "cell_type": "code",
   "execution_count": null,
   "metadata": {},
   "outputs": [],
   "source": [
    "model_cnls = perform_CNLS_LASSO(x=x, y=y, eta=0)\n",
    "beta = model_cnls.get_beta()\n",
    "alpha = model_cnls.get_alpha()\n",
    "beta = pd.DataFrame(beta).round(3)\n",
    "beta.loc['Total',:] = beta.sum(axis=0)\n",
    "display(beta)\n",
    "# beta_unique = obtain_beta_unique(x, alpha, beta).T.round(2).rename(columns={0:'Alpha'})\n",
    "# beta_unique.loc['Total',:] = beta_unique.sum(axis=0)\n",
    "# display(beta_unique)\n",
    "# plot2d(model_cnls, x_select=0, label_name=\"CNLS\", fig_name='CNLS_frontier')"
   ]
  },
  {
   "cell_type": "code",
   "execution_count": null,
   "metadata": {},
   "outputs": [],
   "source": [
    "plot2d(model_cnls, x_select=0, label_name=\"CNLS\", fig_name='CNLS_frontier')"
   ]
  }
 ],
 "metadata": {
  "kernelspec": {
   "display_name": "Python 3.9.12 ('base')",
   "language": "python",
   "name": "python3"
  },
  "language_info": {
   "codemirror_mode": {
    "name": "ipython",
    "version": 3
   },
   "file_extension": ".py",
   "mimetype": "text/x-python",
   "name": "python",
   "nbconvert_exporter": "python",
   "pygments_lexer": "ipython3",
   "version": "3.9.12"
  },
  "orig_nbformat": 4,
  "vscode": {
   "interpreter": {
    "hash": "8393d499030baca7966ef4424534a43124881c0c2d30a5ccb0a8f6ab80ba942a"
   }
  }
 },
 "nbformat": 4,
 "nbformat_minor": 2
}
