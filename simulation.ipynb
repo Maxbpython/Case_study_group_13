{
 "cells": [
  {
   "cell_type": "code",
   "execution_count": null,
   "metadata": {},
   "outputs": [],
   "source": [
    "from functions import sample_uniform_parameters, sample_correlated_parameters, output_from_parameters, output_from_parameters_with_noise, obtain_theta, perform_CNLS_LASSO, obtain_beta_unique, add_random_variables, add_random_correlated_variables, delete_random_variables, retrieve_results, retrieve_results_regular_lasso\n",
    "from pystoned.plot import plot2d\n",
    "import numpy as np\n",
    "import pandas as pd\n",
    "from sklearn.linear_model import Lasso\n",
    "import copy"
   ]
  },
  {
   "cell_type": "markdown",
   "metadata": {},
   "source": [
    "### Sample the true parameters X (iid vs. Correlated), and create Y\n",
    "### Obtain theta from the results"
   ]
  },
  {
   "cell_type": "code",
   "execution_count": null,
   "metadata": {},
   "outputs": [],
   "source": [
    "# Fill in the desired correlations between the variables in the dictionary corrs\n",
    "nr_of_corr_variables = 5\n",
    "\n",
    "corrs = {i: {} for i in range(0, nr_of_corr_variables+1)}\n",
    "\n",
    "corrs[1][2] = 0.6\n",
    "corrs[1][3] = 0.7\n",
    "corrs[1][4] = 0.1\n",
    "corrs[1][5] = 0.3\n",
    "corrs[2][3] = 0.4\n",
    "corrs[2][4] = 0.9\n",
    "corrs[2][5] = 0.2\n",
    "corrs[3][4] = 0.5\n",
    "corrs[3][5] = 0.8\n",
    "corrs[4][5] = 0.1"
   ]
  },
  {
   "cell_type": "code",
   "execution_count": null,
   "metadata": {},
   "outputs": [],
   "source": [
    "CORRELATION = False\n",
    "CORRELATION_REDUNDANT_VARIABLES = False\n",
    "SEED = 42\n",
    "TRUE_INPUTS = 2\n",
    "REDUNDANT_INPUTS = 7\n",
    "NR_DMU = 25\n",
    "\n",
    "if CORRELATION:\n",
    "    x = sample_correlated_parameters(i=TRUE_INPUTS,k=NR_DMU, rho_dict=corrs, min_value=10, max_value=20, seed=SEED)\n",
    "else:\n",
    "    x = sample_uniform_parameters(i=TRUE_INPUTS,k=NR_DMU, min_value=10, max_value=20, seed=SEED)\n",
    "\n",
    "y_log_true = output_from_parameters(x, cons = 3)\n",
    "y_log = output_from_parameters_with_noise(x, cons=3, var=0.1)\n",
    "\n",
    "if CORRELATION_REDUNDANT_VARIABLES:\n",
    "    x = add_random_correlated_variables(x, REDUNDANT_INPUTS, corrs, min_value = 10, max_value = 20, seed=SEED+1)\n",
    "else:\n",
    "    x = add_random_variables(x, REDUNDANT_INPUTS, min_value = 10, max_value = 20, seed=SEED+1)"
   ]
  },
  {
   "cell_type": "code",
   "execution_count": null,
   "metadata": {},
   "outputs": [],
   "source": [
    "theta = obtain_theta(x, y_log_true)"
   ]
  },
  {
   "cell_type": "markdown",
   "metadata": {},
   "source": [
    "### Perform the SCNLS-LASSO regression"
   ]
  },
  {
   "cell_type": "code",
   "execution_count": null,
   "metadata": {},
   "outputs": [],
   "source": [
    "model_cnls = perform_CNLS_LASSO(x=x, y=y_log, eta=0.8)\n",
    "beta = model_cnls.get_beta()\n",
    "alpha = model_cnls.get_alpha()\n",
    "beta = pd.DataFrame(beta).round(3)\n",
    "beta.loc['Total',:] = beta.sum(axis=0)\n",
    "SSR_model = (model_cnls.get_residual()**2).sum()\n",
    "MSE_model = (model_cnls.get_residual()**2).mean()\n",
    "nr_variables_deleted = (beta.loc['Total',:] == 0).sum()\n",
    "nr_correct_variables_deleted = (beta.loc['Total',[0,1]] == 0).sum()\n",
    "# display(beta)\n",
    "# beta_unique = obtain_beta_unique(x, alpha, beta).T.round(2).rename(columns={0:'Alpha'})\n",
    "# beta_unique.loc['Total',:] = beta_unique.sum(axis=0)\n",
    "# display(beta_unique)\n",
    "# plot2d(model_cnls, x_select=0, label_name=\"CNLS\", fig_name='CNLS_frontier')"
   ]
  },
  {
   "cell_type": "code",
   "execution_count": null,
   "metadata": {},
   "outputs": [],
   "source": [
    "SSR_model = (model_cnls.get_residual()**2).sum()\n",
    "MSE_model = (model_cnls.get_residual()**2).mean()"
   ]
  },
  {
   "cell_type": "code",
   "execution_count": null,
   "metadata": {},
   "outputs": [],
   "source": [
    "plot2d(model_cnls, x_select=0, label_name=\"CNLS\", fig_name='CNLS_frontier')"
   ]
  },
  {
   "cell_type": "markdown",
   "metadata": {},
   "source": [
    "## Results SCNLS-LASSO Variable Selection; 500 repetitions, DMUs=25, 2 True inputs, 7 False inputs"
   ]
  },
  {
   "cell_type": "code",
   "execution_count": null,
   "metadata": {},
   "outputs": [],
   "source": [
    "CORRELATION = False\n",
    "CORRELATION_REDUNDANT_VARIABLES = False\n",
    "SEED = 42\n",
    "TRUE_INPUTS = 2\n",
    "REDUNDANT_INPUTS = 7\n",
    "NR_DMU = 25\n",
    "\n",
    "result_dict = {'SSR':{}, 'MSE':{}, 'nr_variables_deleted':{}, 'nr_correct_variables_deleted':{}}\n",
    "\n",
    "for run in range(0,500):\n",
    "    SEED = run\n",
    "    if CORRELATION:\n",
    "        x = sample_correlated_parameters(i=TRUE_INPUTS,k=NR_DMU, rho_dict=corrs, min_value=10, max_value=20, seed=SEED)\n",
    "    else:\n",
    "        x = sample_uniform_parameters(i=TRUE_INPUTS,k=NR_DMU, min_value=10, max_value=20, seed=SEED)\n",
    "\n",
    "    y_log_true = output_from_parameters(x, cons = 3)\n",
    "    y_log = output_from_parameters_with_noise(x, cons=3, var=0.1)\n",
    "\n",
    "    if CORRELATION_REDUNDANT_VARIABLES:\n",
    "        x = add_random_correlated_variables(x, REDUNDANT_INPUTS, corrs, min_value = 10, max_value = 20, seed=SEED+1)\n",
    "    else:\n",
    "        x = add_random_variables(x, REDUNDANT_INPUTS, min_value = 10, max_value = 20, seed=SEED+1)\n",
    "\n",
    "\n",
    "    model_cnls = perform_CNLS_LASSO(x=x, y=y_log, eta=0.8)\n",
    "    beta = model_cnls.get_beta()\n",
    "    alpha = model_cnls.get_alpha()\n",
    "    beta = pd.DataFrame(beta).round(3)\n",
    "    beta.loc['Total',:] = beta.sum(axis=0)\n",
    "    result_dict['SSR'][run] = SSR_model = (model_cnls.get_residual()**2).sum()\n",
    "    result_dict['MSE'][run] = MSE_model = (model_cnls.get_residual()**2).mean()\n",
    "    result_dict['nr_variables_deleted'][run] = nr_variables_deleted = (beta.loc['Total',:] == 0).sum()\n",
    "    result_dict['nr_correct_variables_deleted'][run] = nr_correct_variables_deleted = (beta.loc['Total',[0,1]] == 0).sum()\n",
    "\n",
    "results = pd.DataFrame(result_dict)\n",
    "results.to_csv('results_SCNLS_LASSO_2_true_7_false_25_dmu.csv', sep = ';')\n"
   ]
  },
  {
   "cell_type": "code",
   "execution_count": null,
   "metadata": {},
   "outputs": [],
   "source": [
    "results.describe()"
   ]
  },
  {
   "cell_type": "markdown",
   "metadata": {},
   "source": [
    "## Results Random Variable Selection; \"\""
   ]
  },
  {
   "cell_type": "code",
   "execution_count": null,
   "metadata": {},
   "outputs": [],
   "source": [
    "CORRELATION = False\n",
    "CORRELATION_REDUNDANT_VARIABLES = False\n",
    "SEED = 42\n",
    "TRUE_INPUTS = 2\n",
    "REDUNDANT_INPUTS = 7\n",
    "NR_DMU = 25\n",
    "\n",
    "result_dict_random = {'nr_variables_deleted':{}, 'nr_true_variables_deleted':{}}\n",
    "for i in range(0,500):\n",
    "    SEED = i\n",
    "    x = sample_uniform_parameters(i=TRUE_INPUTS,k=NR_DMU, min_value=10, max_value=20, seed=SEED)\n",
    "    x = add_random_variables(x, REDUNDANT_INPUTS, min_value = 10, max_value = 20, seed=SEED+1)\n",
    "    x, nr_deletions, nr_true_variables_deleted = delete_random_variables(x, seed=SEED+2)\n",
    "    result_dict_random['nr_variables_deleted'][i] = nr_variables_deleted = nr_deletions\n",
    "    result_dict_random['nr_true_variables_deleted'][i] = nr_true_variables_deleted\n",
    "\n",
    "results_random = pd.DataFrame(result_dict_random)\n",
    "results_random.to_csv('results_random_2_true_7_false_25_dmu.csv', sep = ';')\n",
    "results_random.describe()"
   ]
  },
  {
   "cell_type": "markdown",
   "metadata": {},
   "source": [
    "## Calculating the MSEs of the LASSO, SCNLS-LASSO and RANDOM; 100 DMUs, 30 reps"
   ]
  },
  {
   "cell_type": "code",
   "execution_count": null,
   "metadata": {},
   "outputs": [],
   "source": [
    "CORRELATION = False\n",
    "CORRELATION_REDUNDANT_VARIABLES = False\n",
    "TRUE_INPUTS = 2\n",
    "REDUNDANT_INPUTS = 7\n",
    "NR_DMU = 100\n",
    "def perform_grid_search_reg_LASSO(alphas=np.array([0.01, 0.1, 0.2, 0.3, 0.4, 0.5, 0.6, 0.7, 0.8, 0.9, 1.0, 1.1, 1.2, 1.3, 1.4, 1.5, 1.6, 1.7, 1.8, 1.9, 2.0]), reps=30):\n",
    "    #import packages\n",
    "    import numpy as np\n",
    "    import pandas as pd\n",
    "    from sklearn.linear_model import Lasso\n",
    "    from sklearn.model_selection import GridSearchCV\n",
    "\n",
    "    #create grid search\n",
    "    grid_search = GridSearchCV(estimator=Lasso(), param_grid={'alpha':alphas}, cv=5, scoring='neg_mean_squared_error')\n",
    "\n",
    "    #run grid search for each dataset and store results\n",
    "    all_results = []\n",
    "\n",
    "    for run in range(0,reps):\n",
    "        SEED = run\n",
    "        if CORRELATION:\n",
    "            x = sample_correlated_parameters(i=TRUE_INPUTS,k=NR_DMU, rho_dict=corrs, min_value=10, max_value=20, seed=SEED)\n",
    "        else:\n",
    "            x = sample_uniform_parameters(i=TRUE_INPUTS,k=NR_DMU, min_value=10, max_value=20, seed=SEED)\n",
    "\n",
    "        y_log = output_from_parameters_with_noise(x, cons=3, var=0.1)\n",
    "\n",
    "        if CORRELATION_REDUNDANT_VARIABLES:\n",
    "            x = add_random_correlated_variables(x, REDUNDANT_INPUTS, corrs, min_value = 10, max_value = 20, seed=SEED+1)\n",
    "        else:\n",
    "            x = add_random_variables(x, REDUNDANT_INPUTS, min_value = 10, max_value = 20, seed=SEED+1)\n",
    "        \n",
    "        grid_search.fit(np.log(x).T, y_log.T)\n",
    "        all_results.append(grid_search.best_params_['alpha'])\n",
    "\n",
    "    #calculate average alpha\n",
    "    average_alpha = np.mean(all_results)\n",
    "    return average_alpha"
   ]
  },
  {
   "cell_type": "code",
   "execution_count": null,
   "metadata": {},
   "outputs": [],
   "source": [
    "results_SCNLS_LASSO = {}\n",
    "results_random = {}\n",
    "results_reg_LASSO = {}\n",
    "\n",
    "eta_reg_LASSO = perform_grid_search_reg_LASSO()\n",
    "\n",
    "\n",
    "CORRELATION = False\n",
    "CORRELATION_REDUNDANT_VARIABLES = False\n",
    "TRUE_INPUTS = 2\n",
    "REDUNDANT_INPUTS = 7\n",
    "NR_DMU = 100\n",
    "\n",
    "for i in range(1,10):\n",
    "    results_SCNLS_LASSO_run = {'SSR':{}, 'MSE':{}, 'nr_variables_deleted':{}, 'nr_correct_variables_deleted':{}}\n",
    "    results_random_run = {'SSR':{}, 'MSE':{}, 'nr_variables_deleted':{}, 'nr_correct_variables_deleted':{}}\n",
    "    results_reg_LASSO_run = {'SSR':{}, 'MSE':{}, 'nr_variables_deleted':{}, 'nr_correct_variables_deleted':{}}\n",
    "    print(i)\n",
    "    if i >2:\n",
    "        TRUE_INPUTS = 2\n",
    "        REDUNDANT_INPUTS = i-2\n",
    "    else:\n",
    "        TRUE_INPUTS = i\n",
    "        REDUNDANT_INPUTS = 0\n",
    "\n",
    "    for run in range(0,30):\n",
    "        SEED = run\n",
    "        if CORRELATION:\n",
    "            x = sample_correlated_parameters(i=TRUE_INPUTS,k=NR_DMU, rho_dict=corrs, min_value=10, max_value=20, seed=SEED)\n",
    "        else:\n",
    "            x = sample_uniform_parameters(i=TRUE_INPUTS,k=NR_DMU, min_value=10, max_value=20, seed=SEED)\n",
    "\n",
    "        y_log_true = output_from_parameters(x, cons = 3)\n",
    "        y_log = output_from_parameters_with_noise(x, cons=3, var=0.1)\n",
    "\n",
    "        if CORRELATION_REDUNDANT_VARIABLES:\n",
    "            x = add_random_correlated_variables(x, REDUNDANT_INPUTS, corrs, min_value = 10, max_value = 20, seed=SEED+1)\n",
    "        else:\n",
    "            x = add_random_variables(x, REDUNDANT_INPUTS, min_value = 10, max_value = 20, seed=SEED+1)\n",
    "        \n",
    "        x_random, nr_random_deletions, nr_random_true_variables_deleted = delete_random_variables(x, seed=SEED+2)\n",
    "\n",
    "        # SCNLS-LASSO\n",
    "        model_scnls_lasso = perform_CNLS_LASSO(x=x, y=y_log, eta=0.8)\n",
    "        ssr, mse, nr_variables_deleted_lasso, nr_correct_variables_deleted_lasso = retrieve_results(model_scnls_lasso)\n",
    "        results_SCNLS_LASSO_run['SSR'][run] = ssr\n",
    "        results_SCNLS_LASSO_run['MSE'][run] = mse\n",
    "        results_SCNLS_LASSO_run['nr_variables_deleted'][run] = nr_variables_deleted_lasso\n",
    "        results_SCNLS_LASSO_run['nr_correct_variables_deleted'][run] = nr_correct_variables_deleted_lasso\n",
    "\n",
    "        # Random deletion\n",
    "        model_random = perform_CNLS_LASSO(x=x_random, y=y_log, eta=0)\n",
    "        ssr, mse, _, _ = retrieve_results(model_scnls_lasso)\n",
    "        results_random_run['SSR'][run] = ssr\n",
    "        results_random_run['MSE'][run] = mse\n",
    "        results_random_run['nr_variables_deleted'][run] = nr_random_deletions\n",
    "        results_random_run['nr_correct_variables_deleted'][run] = nr_random_true_variables_deleted\n",
    "\n",
    "\n",
    "        # Regular LASSO\n",
    "        lasso_model = Lasso(alpha=eta_reg_LASSO)\n",
    "        lasso_model.fit(np.log(x).T, y_log.T)\n",
    "        ssr, mse, nr_variables_deleted_reg_lasso, nr_correct_variables_deleted_reg_lasso = retrieve_results_regular_lasso(lasso_model, x, y_log)\n",
    "        results_reg_LASSO_run['SSR'][run] = ssr\n",
    "        results_reg_LASSO_run['MSE'][run] = mse\n",
    "        results_reg_LASSO_run['nr_variables_deleted'][run] = nr_variables_deleted_reg_lasso\n",
    "        results_reg_LASSO_run['nr_correct_variables_deleted'][run] = nr_correct_variables_deleted_reg_lasso\n",
    "        \n",
    "    results_SCNLS_LASSO[i] = results_SCNLS_LASSO_run\n",
    "    results_random[i] = results_random_run\n",
    "    results_reg_LASSO[i] = results_reg_LASSO_run\n",
    "    "
   ]
  },
  {
   "cell_type": "code",
   "execution_count": null,
   "metadata": {},
   "outputs": [],
   "source": [
    "eta_reg_LASSO"
   ]
  },
  {
   "cell_type": "code",
   "execution_count": null,
   "metadata": {},
   "outputs": [],
   "source": [
    "lasso_model"
   ]
  },
  {
   "cell_type": "code",
   "execution_count": null,
   "metadata": {},
   "outputs": [],
   "source": [
    "Avg_SCNLS_LASSO = pd.DataFrame(pd.DataFrame(results_SCNLS_LASSO[i]).mean() for i in range(1,10))\n",
    "Avg_random = pd.DataFrame(pd.DataFrame(results_random[i]).mean() for i in range(1,10))\n",
    "Avg_reg_LASSO = pd.DataFrame(pd.DataFrame(results_reg_LASSO[i]).mean() for i in range(1,10))\n",
    "\n",
    "\n",
    "display(Avg_SCNLS_LASSO)\n",
    "display(Avg_random)\n",
    "display(Avg_reg_LASSO)"
   ]
  },
  {
   "cell_type": "code",
   "execution_count": null,
   "metadata": {},
   "outputs": [],
   "source": [
    "results_SCNLS_df =pd.DataFrame()\n",
    "results_random_df =pd.DataFrame()\n",
    "results_reg_LASSO_df =pd.DataFrame()\n",
    "\n",
    "\n",
    "for i in range(1,10):\n",
    "\n",
    "    results_SCNLS_df_i = pd.DataFrame(results_SCNLS_LASSO[i]).rename(columns = lambda x: x+f'_{i}')\n",
    "    results_SCNLS_df = pd.concat([results_SCNLS_df, results_SCNLS_df_i], axis=1)\n",
    "    results_random_i = pd.DataFrame(results_random[i]).rename(columns = lambda x: x+f'_{i}')\n",
    "    results_random_df = pd.concat([results_random_df, results_random_i], axis=1)\n",
    "    results_reg_LASSO_i = pd.DataFrame(results_reg_LASSO[i]).rename(columns = lambda x: x+f'_{i}')\n",
    "    results_reg_LASSO_df = pd.concat([results_reg_LASSO_df, results_reg_LASSO_i], axis=1)\n",
    "\n",
    "# results_SCNLS_df.to_csv('results_SCNLS_df_100_dmus_30_reps_eta_0.8_sorted.csv')\n",
    "# results_random_df.to_csv('results_random_df_100_dmus_30_reps_eta_0.8_sorted.csv')\n",
    "# results_reg_LASSO_df.to_csv('results_reg_LASSO_df_100_dmus_30_reps_eta_0.8_sorted.csv')"
   ]
  }
 ],
 "metadata": {
  "kernelspec": {
   "display_name": "Python 3.9.12 ('base')",
   "language": "python",
   "name": "python3"
  },
  "language_info": {
   "codemirror_mode": {
    "name": "ipython",
    "version": 3
   },
   "file_extension": ".py",
   "mimetype": "text/x-python",
   "name": "python",
   "nbconvert_exporter": "python",
   "pygments_lexer": "ipython3",
   "version": "3.9.12"
  },
  "orig_nbformat": 4,
  "vscode": {
   "interpreter": {
    "hash": "8393d499030baca7966ef4424534a43124881c0c2d30a5ccb0a8f6ab80ba942a"
   }
  }
 },
 "nbformat": 4,
 "nbformat_minor": 2
}
