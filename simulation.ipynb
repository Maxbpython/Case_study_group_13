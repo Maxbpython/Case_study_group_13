{
 "cells": [
  {
   "cell_type": "code",
   "execution_count": null,
   "metadata": {},
   "outputs": [],
   "source": [
    "# CODE WRITTEN BY: Max Bakker\n",
    "\n",
    "from functions import *\n",
    "from pystoned.plot import plot2d\n",
    "import numpy as np\n",
    "import pandas as pd\n",
    "from sklearn.linear_model import Lasso\n",
    "import copy\n",
    "import multiprocessing\n",
    "import functions\n",
    "from itertools import repeat\n",
    "from sklearn.preprocessing import StandardScaler\n",
    "from sklearn.decomposition import PCA\n",
    "import matplotlib.pyplot as plt\n",
    "import kneed"
   ]
  },
  {
   "cell_type": "markdown",
   "metadata": {},
   "source": [
    "# Specify the correlation matrix"
   ]
  },
  {
   "cell_type": "code",
   "execution_count": null,
   "metadata": {},
   "outputs": [],
   "source": [
    "# CORRELATION FOR TRUE INPUTS\n",
    "# Fill in the desired correlations between the variables in the dictionary corrs\n",
    "nr_of_corr_variables = 9\n",
    "\n",
    "corrs_TRUE = {i: {} for i in range(0, nr_of_corr_variables+1)}\n",
    "corrs_FALSE = {i: {} for i in range(0, nr_of_corr_variables+1)}\n",
    "\n",
    "corrs_TRUE[1][2] = 0.8\n",
    "\n",
    "# CORRELATION FOR FALSE INPUTS\n",
    "corrs_FALSE[1][2] = 0.8\n",
    "corrs_FALSE[1][3] = 0.8\n",
    "corrs_FALSE[2][3] = 0.8\n",
    "corrs_FALSE[4][5] = 0.8\n",
    "corrs_FALSE[6][7] = 0.8\n"
   ]
  },
  {
   "cell_type": "markdown",
   "metadata": {},
   "source": [
    "# Perform a single LASSO-SCNLS regression with plot\n",
    "### If ETA = 0, you're performing a regular SCNLS regression"
   ]
  },
  {
   "cell_type": "code",
   "execution_count": null,
   "metadata": {},
   "outputs": [],
   "source": [
    "# REGRESSION PARAMETERS\n",
    "CORRELATION = CORRELATION_REDUNDANT_VARIABLES = True\n",
    "SEED = 1\n",
    "TRUE_INPUTS = 2\n",
    "REDUNDANT_INPUTS = 7\n",
    "NR_DMU = 25\n",
    "VAR_mu = 0.1\n",
    "ETA = 0.05\n",
    "EMAIL = 'maxklaasbakker@gmail.com'\n",
    "\n",
    "if CORRELATION:\n",
    "    x = sample_correlated_parameters(i=TRUE_INPUTS,k=NR_DMU, rho_dict=corrs_TRUE, min_value=10, max_value=20, seed=SEED)\n",
    "else:\n",
    "    x = sample_uniform_parameters(i=TRUE_INPUTS,k=NR_DMU, min_value=10, max_value=20, seed=SEED)\n",
    "\n",
    "# x=x.T.apply(lambda x:np.sort(x)).T\n",
    "y_log_true = output_from_parameters(x, cons = 0)\n",
    "y_log = output_from_parameters_with_noise(x, cons=0, var=VAR_mu)\n",
    "\n",
    "if CORRELATION_REDUNDANT_VARIABLES:\n",
    "    x = add_random_correlated_variables(x, REDUNDANT_INPUTS, corrs_FALSE, min_value = 10, max_value = 20, seed=SEED+1)\n",
    "else:\n",
    "    x = add_random_variables(x, REDUNDANT_INPUTS, min_value = 10, max_value = 20, seed=SEED+1)\n",
    "\n",
    "\n",
    "\n",
    "model_cnls = perform_CNLS_LASSO(x=np.log(x), y=y_log, eta=ETA, email=EMAIL)\n",
    "beta = model_cnls.get_beta()\n",
    "alpha = model_cnls.get_alpha()\n",
    "beta = pd.DataFrame(beta).round(2)\n",
    "beta.loc['Total',:] = beta.mean(axis=0).round(2)\n",
    "SSR_model = (model_cnls.get_residual()**2).sum()\n",
    "MSE_model = (model_cnls.get_residual()**2).mean()\n",
    "nr_variables_deleted = (beta.loc['Total',:] == 0).sum()\n",
    "nr_correct_variables_deleted = (beta.loc['Total',[0,1]] == 0).sum()\n",
    "display(beta)\n",
    "plot2d(model_cnls, x_select=8, label_name=\"CNLS\", fig_name='CNLS_frontier_0_1_variance_ETA_0_1')"
   ]
  },
  {
   "cell_type": "markdown",
   "metadata": {},
   "source": [
    "# SIMULATION RUNS; 500 repetitions, DMUs=25, 2 True inputs, 7 False inputs"
   ]
  },
  {
   "cell_type": "markdown",
   "metadata": {},
   "source": [
    "### LASSO-SCNLS"
   ]
  },
  {
   "cell_type": "code",
   "execution_count": null,
   "metadata": {},
   "outputs": [],
   "source": [
    "# Specify the input parameters\n",
    "CORRELATION = CORRELATION_REDUNDANT_VARIABLES = False\n",
    "TRUE_INPUTS = 2\n",
    "REDUNDANT_INPUTS = 7\n",
    "NR_DMU = 25\n",
    "ETA = 1\n",
    "VAR_mu = 0.1\n",
    "REPITITIONS = 500\n",
    "EMAIL = 'maxklaasbakker@gmail.com'\n",
    "\n",
    "pool = multiprocessing.Pool()\n",
    "\n",
    "# Loop through different combination values of var_mu and ETA\n",
    "for CORRELATION, CORRELATION_REDUNDANT_VARIABLES, VAR_mu, ETA in zip([True,True, False, False],[True,True,False,False],[0.1, 0.7,0.1, 0.7], [0.04,0.09,0.05,0.15]):\n",
    "    result = pool.starmap(functions.run_simulation_CNLS_LASSO, \n",
    "        zip(range(REPITITIONS),\n",
    "        repeat(CORRELATION), repeat(CORRELATION_REDUNDANT_VARIABLES),\n",
    "        repeat(TRUE_INPUTS), repeat(REDUNDANT_INPUTS), repeat(NR_DMU), \n",
    "        repeat(ETA), repeat(VAR_mu),\n",
    "        repeat(corrs_TRUE), repeat(corrs_FALSE), repeat(EMAIL))) \n",
    "    result_df = pd.DataFrame(result)\n",
    "    result_df.to_csv(\n",
    "        f\"1_results_SCNLS_LASSO_2_true_7_false_25_dmu_not_sorted_{str(VAR_mu).replace('.', '_')}_var_eta_{str(ETA).replace('.', '_')}_CORR_{CORRELATION}.csv\", sep=';')\n"
   ]
  },
  {
   "cell_type": "markdown",
   "metadata": {},
   "source": [
    "### RANDOM-SCNLS"
   ]
  },
  {
   "cell_type": "code",
   "execution_count": null,
   "metadata": {},
   "outputs": [],
   "source": [
    "CORRELATION = CORRELATION_REDUNDANT_VARIABLES = False\n",
    "TRUE_INPUTS = 2\n",
    "REDUNDANT_INPUTS = 7\n",
    "NR_DMU = 25\n",
    "ETA = 0\n",
    "VAR_mu = 0.1\n",
    "REPITITIONS = 500\n",
    "EMAIL = 'maxklaasbakker@gmail.com'\n",
    "\n",
    "for CORRELATION, CORRELATION_REDUNDANT_VARIABLES, VAR_mu in zip([True,True, False, False],[True,True,False,False],[0.1, 0.7,0.1, 0.7]):\n",
    "    result = pool.starmap(functions.run_simulation_RANDOM, \n",
    "        zip(range(REPITITIONS),\n",
    "        repeat(CORRELATION), repeat(CORRELATION_REDUNDANT_VARIABLES),\n",
    "        repeat(TRUE_INPUTS), repeat(REDUNDANT_INPUTS), repeat(NR_DMU), \n",
    "        repeat(ETA), repeat(VAR_mu),\n",
    "        repeat(corrs_TRUE), repeat(corrs_FALSE), repeat(EMAIL))) \n",
    "    result_df = pd.DataFrame(result)\n",
    "    result_df.to_csv(\n",
    "        f\"1_results_SCNLS_Random_2_true_7_false_25_dmu_not_sorted_{str(VAR_mu).replace('.', '_')}_var_eta_{str(ETA).replace('.', '_')}_CORR_{CORRELATION}.csv\", sep=';')"
   ]
  },
  {
   "cell_type": "markdown",
   "metadata": {},
   "source": [
    "### Regular LASSO"
   ]
  },
  {
   "cell_type": "code",
   "execution_count": null,
   "metadata": {},
   "outputs": [],
   "source": [
    "CORRELATION = CORRELATION_REDUNDANT_VARIABLES = False\n",
    "TRUE_INPUTS = 2\n",
    "REDUNDANT_INPUTS = 7\n",
    "NR_DMU = 25\n",
    "ETA = 1\n",
    "VAR_mu = 0.1\n",
    "REPITITIONS = 500\n",
    "EMAIL = 'maxklaasbakker@gmail.com'\n",
    "\n",
    "for CORRELATION, CORRELATION_REDUNDANT_VARIABLES, VAR_mu in zip([True,True, False, False],[True,True,False,False],[0.1, 0.7,0.1, 0.7]):\n",
    "    print('CORRELATION = ', CORRELATION, 'CORRELATION_REDUNDANT_VARIABLES = ', CORRELATION_REDUNDANT_VARIABLES)\n",
    "\n",
    "    # Decide what eta to use by doing a grid search\n",
    "    eta_reg_LASSO = perform_grid_search_reg_LASSO(alphas=np.array([0.01, 0.1, 0.2, 0.3, 0.4, 0.5, 0.6, 0.7, 0.8, 0.9, 1.0, 1.1, 1.2, 1.3, 1.4, 1.5, 1.6, 1.7, 1.8, 1.9, 2.0]), reps=30, \n",
    "        CORRELATION=CORRELATION, CORRELATION_REDUNDANT_VARIABLES=CORRELATION_REDUNDANT_VARIABLES, TRUE_INPUTS=TRUE_INPUTS, REDUNDANT_INPUTS=REDUNDANT_INPUTS, \n",
    "        NR_DMU=NR_DMU, VAR_mu=VAR_mu, corrs_TRUE=corrs_TRUE, corrs_FALSE=corrs_FALSE)\n",
    "    print(f'Eta from grid search: {eta_reg_LASSO}')\n",
    "    pool = multiprocessing.Pool()\n",
    "    result = pool.starmap(functions.run_simulation_regular_LASSO, \n",
    "        zip(range(REPITITIONS),\n",
    "        repeat(CORRELATION), repeat(CORRELATION_REDUNDANT_VARIABLES),\n",
    "        repeat(TRUE_INPUTS), repeat(REDUNDANT_INPUTS), repeat(NR_DMU), \n",
    "        repeat(ETA), repeat(VAR_mu),\n",
    "        repeat(corrs_TRUE), repeat(corrs_FALSE), repeat(eta_reg_LASSO), repeat(EMAIL)))\n",
    "    result = pd.DataFrame(result).to_dict()\n",
    "    results_reg_LASSO = pd.DataFrame(result)\n",
    "    results_reg_LASSO.to_csv(f\"../Coding/Datasets_used_for_inference/1_results_regular_LASSO_2_true_7_false_25_dmu_not_sorted_{str(VAR_mu).replace('.', '_')}_var_eta_{str(eta_reg_LASSO.round(3)).replace('.', '_')}_CORR_{str(CORRELATION).replace('.', '_')}.csv\", sep = ';')"
   ]
  },
  {
   "cell_type": "markdown",
   "metadata": {},
   "source": [
    "### PCA-DEA"
   ]
  },
  {
   "cell_type": "code",
   "execution_count": null,
   "metadata": {},
   "outputs": [],
   "source": [
    "# Specify the input parameters\n",
    "CORRELATION = CORRELATION_REDUNDANT_VARIABLES = False\n",
    "TRUE_INPUTS = 2\n",
    "REDUNDANT_INPUTS = 7\n",
    "NR_DMU = 25\n",
    "ETA = 1\n",
    "VAR_mu = 0.1\n",
    "REPITITIONS = 500\n",
    "EMAIL = 'maxklaasbakker@gmail.com'\n",
    "\n",
    "pool = multiprocessing.Pool()\n",
    "\n",
    "# Loop through different combination values of var_mu and ETA\n",
    "for CORRELATION, CORRELATION_REDUNDANT_VARIABLES, VAR_mu in zip([True,True, False, False],[True,True,False,False],[0.1, 0.7,0.1, 0.7]):\n",
    "    result = pool.starmap(functions.run_simulation_PCA_DEA, \n",
    "        zip(range(REPITITIONS),\n",
    "        repeat(CORRELATION), repeat(CORRELATION_REDUNDANT_VARIABLES),\n",
    "        repeat(TRUE_INPUTS), repeat(REDUNDANT_INPUTS), repeat(NR_DMU), \n",
    "        repeat(ETA), repeat(VAR_mu),\n",
    "        repeat(corrs_TRUE), repeat(corrs_FALSE), repeat(EMAIL))) \n",
    "    result_df = pd.DataFrame(result)\n",
    "    result_df.to_csv(\n",
    "        f\"1_results_PCA_DEA_2_true_7_false_25_dmu_not_sorted_{str(VAR_mu).replace('.', '_')}_var_eta_{str(ETA).replace('.', '_')}_CORR_{CORRELATION}.csv\", sep=';')"
   ]
  },
  {
   "cell_type": "markdown",
   "metadata": {},
   "source": [
    "# Simulation for incremental analysis: 100 DMUs 2 True, 7 False, 30 repitition for each nr. of included variables"
   ]
  },
  {
   "cell_type": "markdown",
   "metadata": {},
   "source": [
    "### SCNLS-LASSO"
   ]
  },
  {
   "cell_type": "code",
   "execution_count": null,
   "metadata": {},
   "outputs": [],
   "source": [
    "# Specify the input parameters\n",
    "CORRELATION = CORRELATION_REDUNDANT_VARIABLES = False\n",
    "TRUE_INPUTS = 2\n",
    "REDUNDANT_INPUTS = 7\n",
    "NR_DMU = 100\n",
    "ETA = 1\n",
    "VAR_mu = 0.1\n",
    "REPITITIONS = 30\n",
    "EMAIL = 'maxklaasbakker@gmail.com'\n",
    "\n",
    "pool = multiprocessing.Pool()\n",
    "\n",
    "# Loop through different combination values of var_mu and ETA\n",
    "    \n",
    "for CORRELATION, CORRELATION_REDUNDANT_VARIABLES, VAR_mu, ETA in zip([True,True, False, False],[True,True,False,False],[0.1, 0.7,0.1, 0.7], [0.04,0.09,0.05,0.15]):\n",
    "    results_SCNLS_LASSO_run = {}\n",
    "    for i in range(1,10):\n",
    "        print(i)\n",
    "        # Incrementally add variables for each run\n",
    "        if i >2:\n",
    "            TRUE_INPUTS = 2\n",
    "            REDUNDANT_INPUTS = i-2\n",
    "        else:\n",
    "            TRUE_INPUTS = i\n",
    "            REDUNDANT_INPUTS = 0\n",
    "\n",
    "        result = pool.starmap(functions.run_simulation_CNLS_LASSO, \n",
    "            zip(range(REPITITIONS),\n",
    "            repeat(CORRELATION), repeat(CORRELATION_REDUNDANT_VARIABLES),\n",
    "            repeat(TRUE_INPUTS), repeat(REDUNDANT_INPUTS), repeat(NR_DMU), \n",
    "            repeat(ETA), repeat(VAR_mu),\n",
    "            repeat(corrs_TRUE), repeat(corrs_FALSE), repeat(EMAIL))) \n",
    "        \n",
    "\n",
    "        result_df = pd.DataFrame(result)\n",
    "        results_SCNLS_LASSO_run[i] = result_df\n",
    "    results_SCNLS_LASSO_df = pd.DataFrame()\n",
    "    for i in range(1,10):\n",
    "        results_SCNLA_LASSO_df_i = results_SCNLS_LASSO_run[i].rename(columns = lambda x: x+f'_{i}')\n",
    "        results_SCNLS_LASSO_df = pd.concat([results_SCNLS_LASSO_df, results_SCNLA_LASSO_df_i], axis=1)\n",
    "    results_SCNLS_LASSO_df.to_csv(f\"1_testresults_SCNLS_LASSO_df_100_dmus_30_reps_eta_{str(ETA).replace('.', '_')}_notsorted_var_{str(VAR_mu).replace('.', '_')}_CORR_{CORRELATION}.csv\")"
   ]
  },
  {
   "cell_type": "markdown",
   "metadata": {},
   "source": [
    "### RANDOM-SCNLS"
   ]
  },
  {
   "cell_type": "code",
   "execution_count": null,
   "metadata": {},
   "outputs": [],
   "source": [
    "CORRELATION = CORRELATION_REDUNDANT_VARIABLES = False\n",
    "TRUE_INPUTS = 2\n",
    "REDUNDANT_INPUTS = 7\n",
    "NR_DMU = 100\n",
    "ETA = 1\n",
    "VAR_mu = 0.1\n",
    "REPITITIONS = 30\n",
    "EMAIL = 'maxklaasbakker@gmail.com'\n",
    "\n",
    "pool = multiprocessing.Pool()\n",
    "for CORRELATION, CORRELATION_REDUNDANT_VARIABLES, VAR_mu in zip([True,True, False, False],[True,True,False,False],[0.1, 0.7,0.1, 0.7]):\n",
    "    results_random_run = {}\n",
    "    for i in range(1,10):\n",
    "        print(i)\n",
    "        # Incrementally add variables for each run\n",
    "        if i >2:\n",
    "            TRUE_INPUTS = 2\n",
    "            REDUNDANT_INPUTS = i-2\n",
    "        else:\n",
    "            TRUE_INPUTS = i\n",
    "            REDUNDANT_INPUTS = 0\n",
    "\n",
    "        result = pool.starmap(functions.run_simulation_RANDOM, \n",
    "            zip(range(REPITITIONS),\n",
    "            repeat(CORRELATION), repeat(CORRELATION_REDUNDANT_VARIABLES),\n",
    "            repeat(TRUE_INPUTS), repeat(REDUNDANT_INPUTS), repeat(NR_DMU), \n",
    "            repeat(ETA), repeat(VAR_mu),\n",
    "            repeat(corrs_TRUE), repeat(corrs_FALSE), repeat(EMAIL))) \n",
    "        result_df = pd.DataFrame(result)\n",
    "        results_random_run[i] = result_df\n",
    "        # result_df.to_csv(\n",
    "        #     f\"1_testresults_PCA_DEA_df_100_dmus_30_reps_eta_{str(VAR_mu).replace('.', '_')}_var_eta_{str(ETA).replace('.', '_')}_CORR_{CORRELATION}.csv\", sep=';')\n",
    "    results_Random_df = pd.DataFrame()\n",
    "    for i in range(1,10):\n",
    "        results_Random_df_i = results_random_run[i].rename(columns = lambda x: x+f'_{i}')\n",
    "        results_Random_df = pd.concat([results_Random_df, results_Random_df_i], axis=1)\n",
    "    results_Random_df.to_csv(f\"1_testresults_Random_df_100_dmus_30_reps_eta_{str(0).replace('.', '_')}_notsorted_var_{str(VAR_mu).replace('.', '_')}_CORR_{CORRELATION}.csv\")\n"
   ]
  },
  {
   "cell_type": "markdown",
   "metadata": {},
   "source": [
    "### Regular LASSO"
   ]
  },
  {
   "cell_type": "code",
   "execution_count": null,
   "metadata": {},
   "outputs": [],
   "source": [
    "CORRELATION = CORRELATION_REDUNDANT_VARIABLES = False\n",
    "TRUE_INPUTS = 2\n",
    "REDUNDANT_INPUTS = 7\n",
    "NR_DMU = 100\n",
    "ETA = 1\n",
    "VAR_mu = 0.1\n",
    "REPITITIONS = 30\n",
    "EMAIL = 'maxklaasbakker@gmail.com'\n",
    "\n",
    "for CORRELATION, CORRELATION_REDUNDANT_VARIABLES, VAR_mu in zip([True,True, False, False],[True,True,False,False],[0.1, 0.7,0.1, 0.7]):\n",
    "    results_regular_LASSO_run = {}\n",
    "    for i in range(1,10):\n",
    "        # print(i)\n",
    "        if i >2:\n",
    "            TRUE_INPUTS = 2\n",
    "            REDUNDANT_INPUTS = i-2\n",
    "        else:\n",
    "            TRUE_INPUTS = i\n",
    "            REDUNDANT_INPUTS = 0\n",
    "    \n",
    "    \n",
    "        \n",
    "        # decide what eta to use\n",
    "        eta_reg_LASSO = perform_grid_search_reg_LASSO(alphas=np.array([0.01, 0.1, 0.2, 0.3, 0.4, 0.5, 0.6, 0.7, 0.8, 0.9, 1.0, 1.1, 1.2, 1.3, 1.4, 1.5, 1.6, 1.7, 1.8, 1.9, 2.0]), reps=30, \n",
    "            CORRELATION=CORRELATION, CORRELATION_REDUNDANT_VARIABLES=CORRELATION_REDUNDANT_VARIABLES, TRUE_INPUTS=TRUE_INPUTS, REDUNDANT_INPUTS=REDUNDANT_INPUTS, \n",
    "            NR_DMU=NR_DMU, VAR_mu=VAR_mu, corrs_TRUE=corrs_TRUE, corrs_FALSE=corrs_FALSE)\n",
    "        print('Variables included = ', i, 'CORRELATION = ', CORRELATION, 'CORRELATION_REDUNDANT_VARIABLES = ', CORRELATION_REDUNDANT_VARIABLES, 'VAR_mu = ', VAR_mu, 'ETA from grid search= ', eta_reg_LASSO)\n",
    "\n",
    "        \n",
    "        # print(f'Eta from grid search: {eta_reg_LASSO}')\n",
    "        pool = multiprocessing.Pool()\n",
    "        result = pool.starmap(functions.run_simulation_regular_LASSO, \n",
    "            zip(range(REPITITIONS),\n",
    "            repeat(CORRELATION), repeat(CORRELATION_REDUNDANT_VARIABLES),\n",
    "            repeat(TRUE_INPUTS), repeat(REDUNDANT_INPUTS), repeat(NR_DMU), \n",
    "            repeat(ETA), repeat(VAR_mu),\n",
    "            repeat(corrs_TRUE), repeat(corrs_FALSE), repeat(eta_reg_LASSO), repeat(EMAIL)))\n",
    "        result = pd.DataFrame(result).to_dict()\n",
    "        results_regular_LASSO_run[i] = pd.DataFrame(result)\n",
    "        # results_reg_LASSO.to_csv(f\"../Coding/Datasets_used_for_inference/1_results_regular_LASSO_2_true_7_false_25_dmu_not_sorted_{str(VAR_mu).replace('.', '_')}_var_eta_{str(eta_reg_LASSO.round(3)).replace('.', '_')}_CORR_{str(CORRELATION).replace('.', '_')}.csv\", sep = ';')\n",
    "    results_regular_LASSO_df = pd.DataFrame()\n",
    "    for i in range(1,10):\n",
    "        results_regular_LASSO_df_i = results_regular_LASSO_run[i].rename(columns = lambda x: x+f'_{i}')\n",
    "        results_regular_LASSO_df = pd.concat([results_regular_LASSO_df, results_regular_LASSO_df_i], axis=1)\n",
    "    results_regular_LASSO_df.to_csv(f\"1_testresults_regular_LASSO_df_100_dmus_30_reps_eta_{str(eta_reg_LASSO.round(3)).replace('.', '_')}_notsorted_var_{str(VAR_mu).replace('.', '_')}_CORR_{CORRELATION}.csv\")\n",
    "    "
   ]
  },
  {
   "cell_type": "markdown",
   "metadata": {},
   "source": [
    "### PCA-DEA"
   ]
  },
  {
   "cell_type": "code",
   "execution_count": null,
   "metadata": {},
   "outputs": [],
   "source": [
    "# Specify the input parameters\n",
    "CORRELATION = CORRELATION_REDUNDANT_VARIABLES = False\n",
    "TRUE_INPUTS = 2\n",
    "REDUNDANT_INPUTS = 7\n",
    "NR_DMU = 100\n",
    "ETA = 1\n",
    "VAR_mu = 0.1\n",
    "REPITITIONS = 30\n",
    "EMAIL = 'maxklaasbakker@gmail.com'\n",
    "\n",
    "pool = multiprocessing.Pool()\n",
    "\n",
    "# Loop through different combination values of var_mu and ETA\n",
    "    \n",
    "for CORRELATION, CORRELATION_REDUNDANT_VARIABLES, VAR_mu in zip([True,True, False, False],[True,True,False,False],[0.1, 0.7,0.1, 0.7]):\n",
    "    results_PCA_run = {}\n",
    "    for i in range(1,10):\n",
    "        print(i)\n",
    "        # Incrementally add variables for each run\n",
    "        if i >2:\n",
    "            TRUE_INPUTS = 2\n",
    "            REDUNDANT_INPUTS = i-2\n",
    "        else:\n",
    "            TRUE_INPUTS = i\n",
    "            REDUNDANT_INPUTS = 0\n",
    "\n",
    "        result = pool.starmap(functions.run_simulation_PCA_DEA, \n",
    "            zip(range(REPITITIONS),\n",
    "            repeat(CORRELATION), repeat(CORRELATION_REDUNDANT_VARIABLES),\n",
    "            repeat(TRUE_INPUTS), repeat(REDUNDANT_INPUTS), repeat(NR_DMU), \n",
    "            repeat(ETA), repeat(VAR_mu),\n",
    "            repeat(corrs_TRUE), repeat(corrs_FALSE), repeat(EMAIL))) \n",
    "        result_df = pd.DataFrame(result)\n",
    "        results_PCA_run[i] = result_df\n",
    "        # result_df.to_csv(\n",
    "        #     f\"1_testresults_PCA_DEA_df_100_dmus_30_reps_eta_{str(VAR_mu).replace('.', '_')}_var_eta_{str(ETA).replace('.', '_')}_CORR_{CORRELATION}.csv\", sep=';')\n",
    "    results_PCA_DEA_df = pd.DataFrame()\n",
    "    for i in range(1,10):\n",
    "        results_PCA_DEA_df_i = results_PCA_run[i].rename(columns = lambda x: x+f'_{i}')\n",
    "        results_PCA_DEA_df = pd.concat([results_PCA_DEA_df, results_PCA_DEA_df_i], axis=1)\n",
    "    results_PCA_DEA_df.to_csv(f\"1_testresults_PCA_DEA_df_100_dmus_30_reps_eta_{str(0).replace('.', '_')}_notsorted_var_{str(VAR_mu).replace('.', '_')}_CORR_{CORRELATION}.csv\")\n"
   ]
  },
  {
   "cell_type": "code",
   "execution_count": null,
   "metadata": {},
   "outputs": [],
   "source": []
  }
 ],
 "metadata": {
  "kernelspec": {
   "display_name": "Python 3.9.12 ('base')",
   "language": "python",
   "name": "python3"
  },
  "language_info": {
   "codemirror_mode": {
    "name": "ipython",
    "version": 3
   },
   "file_extension": ".py",
   "mimetype": "text/x-python",
   "name": "python",
   "nbconvert_exporter": "python",
   "pygments_lexer": "ipython3",
   "version": "3.9.12"
  },
  "orig_nbformat": 4,
  "vscode": {
   "interpreter": {
    "hash": "8393d499030baca7966ef4424534a43124881c0c2d30a5ccb0a8f6ab80ba942a"
   }
  }
 },
 "nbformat": 4,
 "nbformat_minor": 2
}
